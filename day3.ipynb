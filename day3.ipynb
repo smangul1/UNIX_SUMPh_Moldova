{
  "nbformat": 4,
  "nbformat_minor": 0,
  "metadata": {
    "colab": {
      "name": "Untitled3.ipynb",
      "version": "0.3.2",
      "provenance": [],
      "include_colab_link": true
    },
    "kernelspec": {
      "name": "python3",
      "display_name": "Python 3"
    }
  },
  "cells": [
    {
      "cell_type": "markdown",
      "metadata": {
        "id": "view-in-github",
        "colab_type": "text"
      },
      "source": [
        "<a href=\"https://colab.research.google.com/github/smangul1/UNIX_SUMPh_Moldova/blob/master/day3.ipynb\" target=\"_parent\"><img src=\"https://colab.research.google.com/assets/colab-badge.svg\" alt=\"Open In Colab\"/></a>"
      ]
    },
    {
      "cell_type": "code",
      "metadata": {
        "id": "yVD_PaV3FKLB",
        "colab_type": "code",
        "outputId": "175bccab-d070-4f20-e1af-960fcabaaa1e",
        "colab": {
          "base_uri": "https://localhost:8080/",
          "height": 34
        }
      },
      "source": [
        "from google.colab import drive\n",
        "drive.mount('/content/gdrive')"
      ],
      "execution_count": 1,
      "outputs": [
        {
          "output_type": "stream",
          "text": [
            "Mounted at /content/gdrive\n"
          ],
          "name": "stdout"
        }
      ]
    },
    {
      "cell_type": "code",
      "metadata": {
        "id": "gpogWoKaumR-",
        "colab_type": "code",
        "colab": {
          "base_uri": "https://localhost:8080/",
          "height": 5358
        },
        "outputId": "ad04a859-2fb1-40c1-c859-586f7d364487"
      },
      "source": [
        "%%bash\n",
        "ls\n",
        "cd gdrive/My\\ Drive\n",
        "ls"
      ],
      "execution_count": 5,
      "outputs": [
        {
          "output_type": "stream",
          "text": [
            "gdrive\n",
            "sample_data\n",
            "7L5A9899.jpg\n",
            "7L5A9904.jpg\n",
            "7L5A9911.jpg\n",
            "7L5A9917.jpg\n",
            "7L5A9931.jpg\n",
            "7L5A9938.jpg\n",
            "abstract.Barnard.gdoc\n",
            "ACM BCB 2018.gsheet\n",
            "airbnbn.pdf\n",
            "all.imputed.LUAD_Mex_P33_T-F1_L_152649.dedup.cleaned.1.clean.kl10.flank50.haps200.pairrand.txt\n",
            "all.imputed.LUAD_Mex_P33_T-F1_L_152649.dedup.cleaned.1.clean.kl10.flank50.haps200.pairrand.vcf.gz\n",
            "all_plots.igh.pdf\n",
            "analysis_big1.tsv\n",
            "analysis.zip\n",
            "An analytical framework for whole-genome sequence association studies and its implications for autism spectrum disorder.pdf\n",
            "A polygenic burden of ultra rare deleterious coding variants increased in depressive disorder across Han Chinese women.gdoc\n",
            "ASHG2016_public.pdf\n",
            "Association analyses of more than 140,000 men identify 63 new prostate cancer susceptibility loci.pdf\n",
            "Barnard_seminar (1).pptx\n",
            "Barnard_seminar (2).pptx\n",
            "Barnard_seminar (3).pptx\n",
            "Barnard_seminar.pptx\n",
            "BIG Summer Collaboratory workshops list as of 62016 at 630pm.gdoc\n",
            "Bioinformatica pentru fiecare sau cum bioinformatica și datele genetice deschise pot stimula dezvoltarea științei în țările în curs de dezvoltare.gdoc\n",
            "Bioinformatics Fellowship Applicants - May 2015\n",
            "Bioinformatics meets open data: An efficient and cost-effective framework to boost basic science in countries and universities with limited resources.gdoc\n",
            "blood_microbiome_2014_04_01_DK_edits.gdoc\n",
            "books\n",
            "bunny.png\n",
            "Business letter.gdoc\n",
            "Cars.gdoc\n",
            "ccApplication_2016.xlsx\n",
            "CC.xlsx\n",
            "cell type composition tools.gsheet\n",
            "chalk talk.gdoc\n",
            "chalk.talk.USC.gdoc\n",
            "code\n",
            "coffee mashine.pdf\n",
            "Colab Notebooks\n",
            "control_steatosis_uncertain_vs_NASH_H (1).csv\n",
            "control_steatosis_uncertain_vs_NASH_H (1).pdf\n",
            "control_steatosis_uncertain_vs_NASH_H.csv\n",
            "control_steatosis_uncertain_vs_NASH_H_geneCounts_norm_deseq_with_header.csv\n",
            "control_steatosis_uncertain_vs_NASH_H_norm_rld.csv\n",
            "control_steatosis_uncertain_vs_NASH_H.pdf\n",
            "control_steatosis_uncertain_vs_NASH_V.csv\n",
            "control_steatosis_uncertain_vs_NASH_V_norm_rld.csv\n",
            "control_steatosis_uncertain_vs_NASH_V.pdf\n",
            "Copy of Potential (Phone) Interview Questions for the TT Job.gdoc\n",
            "Copy of Serghei Mangul - Contact me [Contact me].gform\n",
            "Copy of Serghei Mangul - Untitled form [Untitled form].gform\n",
            "counts_norm_rld_metadata.csv\n",
            "covariates.sex_age\n",
            "cover.letter.UCLA.gdoc\n",
            "coverLetter_v2.docx\n",
            "creditCards.xlsx\n",
            "Creinhardtii_281_v5.5.gene (2) (1).gff3\n",
            "CV\n",
            "data\n",
            "Data Science in Moldova.gdoc\n",
            "dataTutorial\n",
            "day1_Unix_new.gslides\n",
            "day1_Unix_new.pptx\n",
            "db_rop\n",
            "db_rop_1.0.5\n",
            "db_rop2\n",
            "December 10 - 15.gdoc\n",
            "DE_norm_gene_counts_H.csv\n",
            "Desctop\n",
            "DISSERTATION_PROPOSAL_Apr_3_2012\n",
            "DumsterDiving\n",
            "EB2\n",
            "ECCB2016_HapIso_public.pdf\n",
            "EC tools.gsheet\n",
            "EC tools to write waraper.gsheet\n",
            "Education paper.gdoc\n",
            "Faculty interview.gdoc\n",
            "faculty.position\n",
            "faculty.positions.gsheet\n",
            "Figure 1.gdraw\n",
            "figure3new+excel_histogram_v4.gsheet\n",
            "figure3new+excel_histogram_v4.xlsx\n",
            "Financial.plan.gdoc\n",
            "framework_allReads.pptx\n",
            "framework_allReads_v2.pptx\n",
            "framework_allReads_v3.pptx\n",
            "framework_allReads_v4.pptx\n",
            "framework_allReads_v5.pptx\n",
            "Freenome.UCLA.gdoc\n",
            "funding.opportunities\n",
            "Furniture from Camden ave.xlsx\n",
            "Furniture from Camden ave.xlsx.gsheet\n",
            "Future papers.gdoc\n",
            "future.projects.gdoc\n",
            "Future research.gdoc\n",
            "geneCounts_header (1).raw.csv\n",
            "geneCounts_header (1).RPM.csv\n",
            "geneCounts_header.raw.csv\n",
            "geneCounts_header.RPM.csv\n",
            "geneCounts.raw.csv\n",
            "geneCounts.RPM.csv\n",
            "general.plan.gsheet\n",
            "Genome Res.-2015-Grice-1514-20.pdf\n",
            "GEO\n",
            "gprofile_Sarah.gsheet\n",
            "grants\n",
            "gtex\n",
            "gtexAnalyis\n",
            "GTEx.deconvolution.benchmarking.gdoc\n",
            "GTEx Repeat Abstract.gdoc\n",
            "GTEx.Sarah.deconvolution.gdoc\n",
            "GWU_seminar_job.pptx\n",
            "HarryYangRecommendation.docx\n",
            "hoffman2.txt\n",
            "hoffman2.xlsx\n",
            "How to why to use instagram to promote your business.gdoc\n",
            "HPC.gdoc\n",
            "immuneGTEX_v15_MR.gdoc\n",
            "immuneGTEX_v3 MR.DOCX\n",
            "ImReP\n",
            "ImRep2.gsheet\n",
            "ImRep2.gslides\n",
            "imrep.gsheet\n",
            "Imrep review Immunity.gdoc\n",
            "Imrep reviews.gdoc\n",
            "innovation application2.gdoc\n",
            "Integrating real bioinformatics experience in the classroom.gdoc\n",
            "Introduction_Draft.gdoc\n",
            "INTRODUCTION TO COMPUTATIONAL & SYSTEMS BIOLOGY (CASB).gsheet\n",
            "job.docx\n",
            "Kinisha.Gala.zip\n",
            "kmers.CDR3.gsheet\n",
            "KR review.docx\n",
            "KR review.gdoc\n",
            "list  USC.gdoc\n",
            "LUAD_Mex_P33_T-F1_L_152649.dedup.cleaned.bref3.txt\n",
            "LUAD_Mex_P33_T-F1_L_152649.dedup.cleaned.bref3.vcf.gz\n",
            "mama_BloodTest\n",
            "Mangul itinerary.pdf\n",
            "mapsToPrint\n",
            "marek.docx\n",
            "matrix (1).raw.csv\n",
            "matrix (1).RPM.csv\n",
            "matrix.raw\n",
            "matrix.raw.csv\n",
            "matrix.RPM\n",
            "matrix.RPM.csv\n",
            "metadata_control_steatosis_uncertain_vs_NASH_matrix.csv\n",
            "MetaSub Data.gdoc\n",
            "Method for identification of condition-associated public antigen receptor sequences.pdf\n",
            "MiCoP presubmittion.gdoc\n",
            "Microbe-scope.gdoc\n",
            "Microsoft_Office_16.23.19030902_BusinessPro_Installer.pkg\n",
            "Midpoint Manuscript prep status.xlsx.gsheet\n",
            "money\n",
            "Motivation letter. RECOMB 2018.gdoc\n",
            "My.reviews.gdoc\n",
            "Nelly.Jardan.multiple.myeloma.gdoc\n",
            "Notes for Vicky Shemer.gdoc\n",
            "Novel V genes.gdoc\n",
            "Official\n",
            "officialDocuments\n",
            "Packaging and containerizing of bioinformatics software: advances, challenges, and opportunities.gdoc\n",
            "papaVisit\n",
            "papers\n",
            "papers2read\n",
            "papersToRead\n",
            "papers.visit.Alex.UCLA\n",
            "passport\n",
            "Passports.gdoc\n",
            "PCA_control_steatosis_uncertain_vs_NASH_H (1).pdf\n",
            "PCA_control_steatosis_uncertain_vs_NASH_H.pdf\n",
            "PCA_control_steatosis_uncertain_vs_NASH_V.pdf\n",
            "PCA_test.pdf\n",
            "PCA_txt_control_steatosis_uncertain_vs_NASH_H (1).csv\n",
            "PCA_txt_control_steatosis_uncertain_vs_NASH_H.csv\n",
            "PCA_txt_control_steatosis_uncertain_vs_NASH_V.csv\n",
            "PCA_txt_test.csv\n",
            "People.Barnard.gdoc\n",
            "personal\n",
            "personal (1)\n",
            "personal web page.gdoc\n",
            "photos\n",
            "Postdoctoral Training Program in Neurobehavioral Genetics\n",
            "ppt\n",
            "Presentation1.gslides\n",
            "Presentation4.pptx\n",
            "Presentation January 2018.gslides\n",
            "presubmission inquiry. Technology dictates algorithms .gdoc\n",
            "presubmition6.docx\n",
            "presubmition6.gdoc\n",
            "previous.google.drive\n",
            "print\n",
            "Profiling complex microbial communities via the genome coverage lens. Genome Biology.gdoc\n",
            "Profiling complex microbial communities via the genome coverage lens.Nature.Microbilogy.gdoc\n",
            "Profiling immunoglobulin repertoires across multiple human tissues by RNA Sequencing.gdoc\n",
            "proiect_de_agenda_zd_2017.pdf\n",
            "projects\n",
            "Proposed Outline: Technology dictates algorithms : Recent developments in read alignments.gdoc\n",
            "QCB\n",
            "QCBio\n",
            "R15.Barnard.gdoc\n",
            "rarev.gdoc\n",
            "rDNA.vs.MT.gsheet\n",
            "RECOMB_2015_microbiome\n",
            "recommendationLetter\n",
            "recommendationLetter.docx\n",
            "RECP33 (1).zip\n",
            "RECP33.zip\n",
            "RECP43 (1).zip\n",
            "RECP43.zip\n",
            "RECP46 (1).zip\n",
            "RECP46.zip\n",
            "reimbursement\n",
            "rename.txt\n",
            "Report.gdoc\n",
            "Reproducibility of computational and data-enabled research by improving data availability, archival stability, and instability .gdoc\n",
            "Revealing complete virome across 100000 samples.gdoc\n",
            "review\n",
            "Revised - Hidden Treasures in Contemporary RNA Sequencing.sm.jan8.docx\n",
            "revisedPaper\n",
            "RNA-Seq analysis.gdoc\n",
            "rop\n",
            "ROP highligth talk RECOMB 2019.gdoc\n",
            "Run-Linux-on-Windows.pptx\n",
            "serghei_BC2_error_correction (1).pptx\n",
            "serghei_BC2_error_correction.pptx\n",
            "Serghei_Mangul_Anaconda.pdf\n",
            "Serghei_Mangul_Anaconda.pptx\n",
            "Serghei_Mangul_monthly_sheet_UCLA.pdf\n",
            "Serghei_Mangul_monthly_sheet_UCLA_POSTDOC.pdf\n",
            "share\n",
            "share (1)\n",
            "Shattuck Lecture — Diversity of the Immune Repertoire and Immunoregulation.pdf\n",
            "Shedule.gsheet\n",
            "Stanford_Seminar.pptx\n",
            "start-up Chicago.gdoc\n",
            "startup.gdoc\n",
            "Steve Brenner UCLA Visit 5-2-2016.gdoc\n",
            "Supplementary.Figures.ImReP.gdoc\n",
            "Supplementary Methods.gdoc\n",
            "Supplementary Tables.gdoc\n",
            "support.letter.CGSI.Mangul.gdoc\n",
            "SV handoff.zip\n",
            "SV tools. virtual machine and hoffman2.gsheet\n",
            "Systematic  benchmarking of omics computational tools.gdoc\n",
            "Table1.best.benchmarking.gsheet\n",
            "Table internal. Best practices for conducting benchmarking in the most comprehensive and reproducible way .gsheet\n",
            "taxes\n",
            "taxesSummary2015.xlsx\n",
            "teaching\n",
            "Teaching.Notes.gdoc\n",
            "Technology dictates algorithms : Recent developments in read alignments.gdoc\n",
            "Telescope presubmition letter.gdoc\n",
            "test999.txt\n",
            "test.csv\n",
            "test_geneCounts_perCondition.csv\n",
            "test_norm_rld.csv\n",
            "testNoSync\n",
            "test.pdf\n",
            "test.txt\n",
            "Tools_Instalability.gsheet\n",
            "toolVDJ\n",
            "toread\n",
            "Toronto_seminar_v1.pptx\n",
            "Toward decoding complete human immunome.  Assemble recombined T and B cell receptor sequences across 70000 individuals.gdoc\n",
            "travel_fellowship\n",
            "UMI-Reducer.gdoc\n",
            "UNIVERSITY OF CALIFORNIA, LOS ANGELES.gdoc\n",
            "unix.gdoc\n",
            "unix.txt\n",
            "unmaaped.fastq\n",
            "Untitled document (10).gdoc\n",
            "Untitled document (1).gdoc\n",
            "Untitled document (2).gdoc\n",
            "Untitled document (3).gdoc\n",
            "Untitled document (4).gdoc\n",
            "Untitled document (5).gdoc\n",
            "Untitled document (6).gdoc\n",
            "Untitled document (7).gdoc\n",
            "Untitled document (8).gdoc\n",
            "Untitled document (9).gdoc\n",
            "Untitled document.gdoc\n",
            "untitled folder\n",
            "untitled folder 2\n",
            "Untitled presentation.gslides\n",
            "Untitled spreadsheet (10).gsheet\n",
            "Untitled spreadsheet (11).gsheet\n",
            "Untitled spreadsheet (12).gsheet\n",
            "Untitled spreadsheet (13).gsheet\n",
            "Untitled spreadsheet (14).gsheet\n",
            "Untitled spreadsheet (15).gsheet\n",
            "Untitled spreadsheet (16).gsheet\n",
            "Untitled spreadsheet (1).gsheet\n",
            "Untitled spreadsheet (2).gsheet\n",
            "Untitled spreadsheet (3).gsheet\n",
            "Untitled spreadsheet (4).gsheet\n",
            "Untitled spreadsheet (5).gsheet\n",
            "Untitled spreadsheet (6).gsheet\n",
            "Untitled spreadsheet (7).gsheet\n",
            "Untitled spreadsheet (8).gsheet\n",
            "Untitled spreadsheet (9).gsheet\n",
            "Untitled spreadsheet.gsheet\n",
            "URV.pptx\n",
            "USC_seminar_v1 (1).pptx\n",
            "USC_seminar_v1.pptx\n",
            "Validation based on simulated RNA-Seq and BCR(TCR)-Seq data (1).gdoc\n",
            "Validation based on simulated RNA-Seq and BCR(TCR)-Seq data.gdoc\n",
            "ViralPacBioOLD2016\n",
            "visa\n",
            "w2.pdf\n"
          ],
          "name": "stdout"
        }
      ]
    },
    {
      "cell_type": "code",
      "metadata": {
        "id": "KBq-caxkGlRD",
        "colab_type": "code",
        "outputId": "16cc03e7-89d5-4753-f3c1-e6d539e8a75c",
        "colab": {
          "base_uri": "https://localhost:8080/",
          "height": 122
        }
      },
      "source": [
        "from google.colab import drive\n",
        "drive.mount('/content/gdrive')"
      ],
      "execution_count": 0,
      "outputs": [
        {
          "output_type": "stream",
          "text": [
            "Go to this URL in a browser: https://accounts.google.com/o/oauth2/auth?client_id=947318989803-6bn6qk8qdgf4n4g3pfee6491hc0brc4i.apps.googleusercontent.com&redirect_uri=urn%3Aietf%3Awg%3Aoauth%3A2.0%3Aoob&scope=email%20https%3A%2F%2Fwww.googleapis.com%2Fauth%2Fdocs.test%20https%3A%2F%2Fwww.googleapis.com%2Fauth%2Fdrive%20https%3A%2F%2Fwww.googleapis.com%2Fauth%2Fdrive.photos.readonly%20https%3A%2F%2Fwww.googleapis.com%2Fauth%2Fpeopleapi.readonly&response_type=code\n",
            "\n",
            "Enter your authorization code:\n",
            "··········\n",
            "Mounted at /content/gdrive\n"
          ],
          "name": "stdout"
        }
      ]
    },
    {
      "cell_type": "code",
      "metadata": {
        "id": "5ihqdA9oNm8K",
        "colab_type": "code",
        "outputId": "6a39b8f8-38ae-4b01-dcee-e2dd83663d2b",
        "colab": {
          "base_uri": "https://localhost:8080/",
          "height": 5409
        }
      },
      "source": [
        "%%bash\n",
        "ls\n",
        "cd gdrive\n",
        "ls\n",
        "cd M*\n",
        "ls\n",
        "ls >test999.txt"
      ],
      "execution_count": 0,
      "outputs": [
        {
          "output_type": "stream",
          "text": [
            "gdrive\n",
            "sample_data\n",
            "test.txt\n",
            "My Drive\n",
            "Team Drives\n",
            "7L5A9899.jpg\n",
            "7L5A9904.jpg\n",
            "7L5A9911.jpg\n",
            "7L5A9917.jpg\n",
            "7L5A9931.jpg\n",
            "7L5A9938.jpg\n",
            "abstract.Barnard.gdoc\n",
            "ACM BCB 2018.gsheet\n",
            "airbnbn.pdf\n",
            "all.imputed.LUAD_Mex_P33_T-F1_L_152649.dedup.cleaned.1.clean.kl10.flank50.haps200.pairrand.txt\n",
            "all.imputed.LUAD_Mex_P33_T-F1_L_152649.dedup.cleaned.1.clean.kl10.flank50.haps200.pairrand.vcf.gz\n",
            "all_plots.igh.pdf\n",
            "analysis_big1.tsv\n",
            "analysis.zip\n",
            "An analytical framework for whole-genome sequence association studies and its implications for autism spectrum disorder.pdf\n",
            "A polygenic burden of ultra rare deleterious coding variants increased in depressive disorder across Han Chinese women.gdoc\n",
            "ASHG2016_public.pdf\n",
            "Association analyses of more than 140,000 men identify 63 new prostate cancer susceptibility loci.pdf\n",
            "Barnard_seminar (1).pptx\n",
            "Barnard_seminar (2).pptx\n",
            "Barnard_seminar (3).pptx\n",
            "Barnard_seminar.pptx\n",
            "BIG Summer Collaboratory workshops list as of 62016 at 630pm.gdoc\n",
            "Bioinformatica pentru fiecare sau cum bioinformatica și datele genetice deschise pot stimula dezvoltarea științei în țările în curs de dezvoltare.gdoc\n",
            "Bioinformatics Fellowship Applicants - May 2015\n",
            "Bioinformatics meets open data: An efficient and cost-effective framework to boost basic science in countries and universities with limited resources.gdoc\n",
            "blood_microbiome_2014_04_01_DK_edits.gdoc\n",
            "books\n",
            "bunny.png\n",
            "Business letter.gdoc\n",
            "Cars.gdoc\n",
            "ccApplication_2016.xlsx\n",
            "CC.xlsx\n",
            "cell type composition tools.gsheet\n",
            "chalk talk.gdoc\n",
            "chalk.talk.USC.gdoc\n",
            "code\n",
            "coffee mashine.pdf\n",
            "Colab Notebooks\n",
            "control_steatosis_uncertain_vs_NASH_H (1).csv\n",
            "control_steatosis_uncertain_vs_NASH_H (1).pdf\n",
            "control_steatosis_uncertain_vs_NASH_H.csv\n",
            "control_steatosis_uncertain_vs_NASH_H_geneCounts_norm_deseq_with_header.csv\n",
            "control_steatosis_uncertain_vs_NASH_H_norm_rld.csv\n",
            "control_steatosis_uncertain_vs_NASH_H.pdf\n",
            "control_steatosis_uncertain_vs_NASH_V.csv\n",
            "control_steatosis_uncertain_vs_NASH_V_norm_rld.csv\n",
            "control_steatosis_uncertain_vs_NASH_V.pdf\n",
            "Copy of Potential (Phone) Interview Questions for the TT Job.gdoc\n",
            "Copy of Serghei Mangul - Contact me [Contact me].gform\n",
            "Copy of Serghei Mangul - Untitled form [Untitled form].gform\n",
            "counts_norm_rld_metadata.csv\n",
            "covariates.sex_age\n",
            "cover.letter.UCLA.gdoc\n",
            "coverLetter_v2.docx\n",
            "creditCards.xlsx\n",
            "Creinhardtii_281_v5.5.gene (2) (1).gff3\n",
            "CV\n",
            "data\n",
            "Data Science in Moldova.gdoc\n",
            "dataTutorial\n",
            "day1_Unix_new.gslides\n",
            "day1_Unix_new.pptx\n",
            "db_rop\n",
            "db_rop_1.0.5\n",
            "db_rop2\n",
            "December 10 - 15.gdoc\n",
            "DE_norm_gene_counts_H.csv\n",
            "Desctop\n",
            "DISSERTATION_PROPOSAL_Apr_3_2012\n",
            "DumsterDiving\n",
            "EB2\n",
            "ECCB2016_HapIso_public.pdf\n",
            "EC tools.gsheet\n",
            "EC tools to write waraper.gsheet\n",
            "Education paper.gdoc\n",
            "Faculty interview.gdoc\n",
            "faculty.position\n",
            "faculty.positions.gsheet\n",
            "Figure 1.gdraw\n",
            "figure3new+excel_histogram_v4.gsheet\n",
            "figure3new+excel_histogram_v4.xlsx\n",
            "Financial.plan.gdoc\n",
            "framework_allReads.pptx\n",
            "framework_allReads_v2.pptx\n",
            "framework_allReads_v3.pptx\n",
            "framework_allReads_v4.pptx\n",
            "framework_allReads_v5.pptx\n",
            "Freenome.UCLA.gdoc\n",
            "funding.opportunities\n",
            "Furniture from Camden ave.xlsx\n",
            "Furniture from Camden ave.xlsx.gsheet\n",
            "Future papers.gdoc\n",
            "future.projects.gdoc\n",
            "Future research.gdoc\n",
            "geneCounts_header (1).raw.csv\n",
            "geneCounts_header (1).RPM.csv\n",
            "geneCounts_header.raw.csv\n",
            "geneCounts_header.RPM.csv\n",
            "geneCounts.raw.csv\n",
            "geneCounts.RPM.csv\n",
            "general.plan.gsheet\n",
            "Genome Res.-2015-Grice-1514-20.pdf\n",
            "GEO\n",
            "gprofile_Sarah.gsheet\n",
            "grants\n",
            "gtex\n",
            "gtexAnalyis\n",
            "GTEx.deconvolution.benchmarking.gdoc\n",
            "GTEx Repeat Abstract.gdoc\n",
            "GTEx.Sarah.deconvolution.gdoc\n",
            "GWU_seminar_job.pptx\n",
            "HarryYangRecommendation.docx\n",
            "hoffman2.txt\n",
            "hoffman2.xlsx\n",
            "How to why to use instagram to promote your business.gdoc\n",
            "HPC.gdoc\n",
            "immuneGTEX_v15_MR.gdoc\n",
            "immuneGTEX_v3 MR.DOCX\n",
            "ImReP\n",
            "ImRep2.gsheet\n",
            "ImRep2.gslides\n",
            "imrep.gsheet\n",
            "Imrep review Immunity.gdoc\n",
            "Imrep reviews.gdoc\n",
            "innovation application2.gdoc\n",
            "Integrating real bioinformatics experience in the classroom.gdoc\n",
            "Introduction_Draft.gdoc\n",
            "INTRODUCTION TO COMPUTATIONAL & SYSTEMS BIOLOGY (CASB).gsheet\n",
            "job.docx\n",
            "Kinisha.Gala.zip\n",
            "kmers.CDR3.gsheet\n",
            "KR review.docx\n",
            "KR review.gdoc\n",
            "list  USC.gdoc\n",
            "LUAD_Mex_P33_T-F1_L_152649.dedup.cleaned.bref3.txt\n",
            "LUAD_Mex_P33_T-F1_L_152649.dedup.cleaned.bref3.vcf.gz\n",
            "mama_BloodTest\n",
            "Mangul itinerary.pdf\n",
            "mapsToPrint\n",
            "marek.docx\n",
            "matrix (1).raw.csv\n",
            "matrix (1).RPM.csv\n",
            "matrix.raw\n",
            "matrix.raw.csv\n",
            "matrix.RPM\n",
            "matrix.RPM.csv\n",
            "metadata_control_steatosis_uncertain_vs_NASH_matrix.csv\n",
            "MetaSub Data.gdoc\n",
            "Method for identification of condition-associated public antigen receptor sequences.pdf\n",
            "MiCoP presubmittion.gdoc\n",
            "Microbe-scope.gdoc\n",
            "Microsoft_Office_16.23.19030902_BusinessPro_Installer.pkg\n",
            "Midpoint Manuscript prep status.xlsx.gsheet\n",
            "money\n",
            "Motivation letter. RECOMB 2018.gdoc\n",
            "My.reviews.gdoc\n",
            "Nelly.Jardan.multiple.myeloma.gdoc\n",
            "Notes for Vicky Shemer.gdoc\n",
            "Novel V genes.gdoc\n",
            "Official\n",
            "officialDocuments\n",
            "Packaging and containerizing of bioinformatics software: advances, challenges, and opportunities.gdoc\n",
            "papaVisit\n",
            "papers\n",
            "papers2read\n",
            "papersToRead\n",
            "papers.visit.Alex.UCLA\n",
            "passport\n",
            "Passports.gdoc\n",
            "PCA_control_steatosis_uncertain_vs_NASH_H (1).pdf\n",
            "PCA_control_steatosis_uncertain_vs_NASH_H.pdf\n",
            "PCA_control_steatosis_uncertain_vs_NASH_V.pdf\n",
            "PCA_test.pdf\n",
            "PCA_txt_control_steatosis_uncertain_vs_NASH_H (1).csv\n",
            "PCA_txt_control_steatosis_uncertain_vs_NASH_H.csv\n",
            "PCA_txt_control_steatosis_uncertain_vs_NASH_V.csv\n",
            "PCA_txt_test.csv\n",
            "People.Barnard.gdoc\n",
            "personal\n",
            "personal (1)\n",
            "personal web page.gdoc\n",
            "photos\n",
            "Postdoctoral Training Program in Neurobehavioral Genetics\n",
            "ppt\n",
            "Presentation1.gslides\n",
            "Presentation4.pptx\n",
            "Presentation January 2018.gslides\n",
            "presubmission inquiry. Technology dictates algorithms .gdoc\n",
            "presubmition6.docx\n",
            "presubmition6.gdoc\n",
            "previous.google.drive\n",
            "print\n",
            "Profiling complex microbial communities via the genome coverage lens. Genome Biology.gdoc\n",
            "Profiling complex microbial communities via the genome coverage lens.Nature.Microbilogy.gdoc\n",
            "Profiling immunoglobulin repertoires across multiple human tissues by RNA Sequencing.gdoc\n",
            "proiect_de_agenda_zd_2017.pdf\n",
            "projects\n",
            "Proposed Outline: Technology dictates algorithms : Recent developments in read alignments.gdoc\n",
            "QCB\n",
            "QCBio\n",
            "R15.Barnard.gdoc\n",
            "rarev.gdoc\n",
            "rDNA.vs.MT.gsheet\n",
            "RECOMB_2015_microbiome\n",
            "recommendationLetter\n",
            "recommendationLetter.docx\n",
            "RECP33 (1).zip\n",
            "RECP33.zip\n",
            "RECP43 (1).zip\n",
            "RECP43.zip\n",
            "RECP46 (1).zip\n",
            "RECP46.zip\n",
            "reimbursement\n",
            "rename.txt\n",
            "Report.gdoc\n",
            "Reproducibility of computational and data-enabled research by improving data availability, archival stability, and instability .gdoc\n",
            "Revealing complete virome across 100000 samples.gdoc\n",
            "review\n",
            "Revised - Hidden Treasures in Contemporary RNA Sequencing.sm.jan8.docx\n",
            "revisedPaper\n",
            "RNA-Seq analysis.gdoc\n",
            "rop\n",
            "ROP highligth talk RECOMB 2019.gdoc\n",
            "Run-Linux-on-Windows.pptx\n",
            "serghei_BC2_error_correction (1).pptx\n",
            "serghei_BC2_error_correction.pptx\n",
            "Serghei_Mangul_Anaconda.pdf\n",
            "Serghei_Mangul_Anaconda.pptx\n",
            "Serghei_Mangul_monthly_sheet_UCLA.pdf\n",
            "Serghei_Mangul_monthly_sheet_UCLA_POSTDOC.pdf\n",
            "share\n",
            "share (1)\n",
            "Shattuck Lecture — Diversity of the Immune Repertoire and Immunoregulation.pdf\n",
            "Shedule.gsheet\n",
            "Stanford_Seminar.pptx\n",
            "start-up Chicago.gdoc\n",
            "startup.gdoc\n",
            "Steve Brenner UCLA Visit 5-2-2016.gdoc\n",
            "Supplementary.Figures.ImReP.gdoc\n",
            "Supplementary Methods.gdoc\n",
            "Supplementary Tables.gdoc\n",
            "support.letter.CGSI.Mangul.gdoc\n",
            "SV handoff.zip\n",
            "SV tools. virtual machine and hoffman2.gsheet\n",
            "Systematic  benchmarking of omics computational tools.gdoc\n",
            "Table1.best.benchmarking.gsheet\n",
            "Table internal. Best practices for conducting benchmarking in the most comprehensive and reproducible way .gsheet\n",
            "taxes\n",
            "taxesSummary2015.xlsx\n",
            "teaching\n",
            "Teaching.Notes.gdoc\n",
            "Technology dictates algorithms : Recent developments in read alignments.gdoc\n",
            "Telescope presubmition letter.gdoc\n",
            "test999.txt\n",
            "test.csv\n",
            "test_geneCounts_perCondition.csv\n",
            "test_norm_rld.csv\n",
            "testNoSync\n",
            "test.pdf\n",
            "test.txt\n",
            "Tools_Instalability.gsheet\n",
            "toolVDJ\n",
            "toread\n",
            "Toronto_seminar_v1.pptx\n",
            "Toward decoding complete human immunome.  Assemble recombined T and B cell receptor sequences across 70000 individuals.gdoc\n",
            "travel_fellowship\n",
            "UMI-Reducer.gdoc\n",
            "UNIVERSITY OF CALIFORNIA, LOS ANGELES.gdoc\n",
            "unix.gdoc\n",
            "unix.txt\n",
            "unmaaped.fastq\n",
            "Untitled document (10).gdoc\n",
            "Untitled document (1).gdoc\n",
            "Untitled document (2).gdoc\n",
            "Untitled document (3).gdoc\n",
            "Untitled document (4).gdoc\n",
            "Untitled document (5).gdoc\n",
            "Untitled document (6).gdoc\n",
            "Untitled document (7).gdoc\n",
            "Untitled document (8).gdoc\n",
            "Untitled document (9).gdoc\n",
            "Untitled document.gdoc\n",
            "untitled folder\n",
            "untitled folder 2\n",
            "Untitled presentation.gslides\n",
            "Untitled spreadsheet (10).gsheet\n",
            "Untitled spreadsheet (11).gsheet\n",
            "Untitled spreadsheet (12).gsheet\n",
            "Untitled spreadsheet (13).gsheet\n",
            "Untitled spreadsheet (14).gsheet\n",
            "Untitled spreadsheet (15).gsheet\n",
            "Untitled spreadsheet (16).gsheet\n",
            "Untitled spreadsheet (1).gsheet\n",
            "Untitled spreadsheet (2).gsheet\n",
            "Untitled spreadsheet (3).gsheet\n",
            "Untitled spreadsheet (4).gsheet\n",
            "Untitled spreadsheet (5).gsheet\n",
            "Untitled spreadsheet (6).gsheet\n",
            "Untitled spreadsheet (7).gsheet\n",
            "Untitled spreadsheet (8).gsheet\n",
            "Untitled spreadsheet (9).gsheet\n",
            "Untitled spreadsheet.gsheet\n",
            "URV.pptx\n",
            "USC_seminar_v1 (1).pptx\n",
            "USC_seminar_v1.pptx\n",
            "Validation based on simulated RNA-Seq and BCR(TCR)-Seq data (1).gdoc\n",
            "Validation based on simulated RNA-Seq and BCR(TCR)-Seq data.gdoc\n",
            "ViralPacBioOLD2016\n",
            "visa\n",
            "w2.pdf\n"
          ],
          "name": "stdout"
        }
      ]
    },
    {
      "cell_type": "code",
      "metadata": {
        "id": "v-v069p6Oteq",
        "colab_type": "code",
        "outputId": "1630b79d-f842-4dd4-de1c-59cdb65df9a2",
        "colab": {
          "base_uri": "https://localhost:8080/",
          "height": 34
        }
      },
      "source": [
        "%%bash\n",
        "pwd"
      ],
      "execution_count": 0,
      "outputs": [
        {
          "output_type": "stream",
          "text": [
            "/content\n"
          ],
          "name": "stdout"
        }
      ]
    },
    {
      "cell_type": "code",
      "metadata": {
        "id": "5SRWEs-_jIVR",
        "colab_type": "code",
        "colab": {
          "resources": {
            "http://localhost:8080/nbextensions/google.colab/files.js": {
              "data": "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",
              "ok": true,
              "headers": [
                [
                  "content-type",
                  "application/javascript"
                ]
              ],
              "status": 200,
              "status_text": ""
            }
          },
          "base_uri": "https://localhost:8080/",
          "height": 649
        },
        "outputId": "2e66d967-372f-4c5f-cf41-079784e7b2c7"
      },
      "source": [
        "from google.colab import files\n",
        "uploaded = files.upload()"
      ],
      "execution_count": 5,
      "outputs": [
        {
          "output_type": "display_data",
          "data": {
            "text/html": [
              "\n",
              "     <input type=\"file\" id=\"files-dbab61c8-cf2d-4ebd-8151-5eb3ca821c61\" name=\"files[]\" multiple disabled />\n",
              "     <output id=\"result-dbab61c8-cf2d-4ebd-8151-5eb3ca821c61\">\n",
              "      Upload widget is only available when the cell has been executed in the\n",
              "      current browser session. Please rerun this cell to enable.\n",
              "      </output>\n",
              "      <script src=\"/nbextensions/google.colab/files.js\"></script> "
            ],
            "text/plain": [
              "<IPython.core.display.HTML object>"
            ]
          },
          "metadata": {
            "tags": []
          }
        },
        {
          "output_type": "stream",
          "text": [
            "Saving chr2.txt to chr2.txt\n",
            "Saving toy.ref.fasta.sa to toy.ref.fasta.sa\n",
            "Saving toy.ref.fasta.pac to toy.ref.fasta.pac\n",
            "Saving toy.ref.fasta.bwt to toy.ref.fasta.bwt\n",
            "Saving toy.ref.fasta.ann to toy.ref.fasta.ann\n",
            "Saving toy.ref.fasta.amb to toy.ref.fasta.amb\n",
            "Saving toy.ref.fasta to toy.ref.fasta\n",
            "Saving toy.reads.fastq to toy.reads.fastq\n",
            "Saving sed_file.txt to sed_file.txt\n",
            "Saving sales.txt to sales.txt\n",
            "Saving reproduce.sh to reproduce.sh\n",
            "Saving regex_sort.txt to regex_sort.txt\n",
            "Saving regex2.txt to regex2.txt\n",
            "Saving regex.txt to regex.txt\n",
            "Saving numbers.txt to numbers.txt\n",
            "Saving hg19.gtf to hg19.gtf\n",
            "Saving file_sed.txt to file_sed.txt\n",
            "Saving emp.txt to emp.txt\n"
          ],
          "name": "stdout"
        }
      ]
    },
    {
      "cell_type": "code",
      "metadata": {
        "id": "vjPQF-pRkl8_",
        "colab_type": "code",
        "colab": {
          "base_uri": "https://localhost:8080/",
          "height": 340
        },
        "outputId": "a6b6e6a6-05af-4dac-d001-86f30e49d8dd"
      },
      "source": [
        "%%bash\n",
        "ls"
      ],
      "execution_count": 7,
      "outputs": [
        {
          "output_type": "stream",
          "text": [
            "chr2.txt\n",
            "emp.txt\n",
            "file_sed.txt\n",
            "hg19.gtf\n",
            "numbers.txt\n",
            "regex2.txt\n",
            "regex_sort.txt\n",
            "regex.txt\n",
            "reproduce.sh\n",
            "sales.txt\n",
            "sample_data\n",
            "sed_file.txt\n",
            "toy.reads.fastq\n",
            "toy.ref.fasta\n",
            "toy.ref.fasta.amb\n",
            "toy.ref.fasta.ann\n",
            "toy.ref.fasta.bwt\n",
            "toy.ref.fasta.pac\n",
            "toy.ref.fasta.sa\n"
          ],
          "name": "stdout"
        }
      ]
    },
    {
      "cell_type": "code",
      "metadata": {
        "id": "4RtQIZA9kuY9",
        "colab_type": "code",
        "colab": {
          "base_uri": "https://localhost:8080/",
          "height": 34
        },
        "outputId": "e9d32ac6-46a0-49e2-c15d-c654b0d835f5"
      },
      "source": [
        "%%bash\n",
        "cat sed_file.txt"
      ],
      "execution_count": 8,
      "outputs": [
        {
          "output_type": "stream",
          "text": [
            "Four score and seven years ago\n"
          ],
          "name": "stdout"
        }
      ]
    },
    {
      "cell_type": "code",
      "metadata": {
        "id": "HLPeUit1lTV4",
        "colab_type": "code",
        "colab": {
          "base_uri": "https://localhost:8080/",
          "height": 34
        },
        "outputId": "619e3f0b-3a57-44cb-8002-6080b5f1383e"
      },
      "source": [
        "%%bash\n",
        "sed 's/seven/nine/g' sed_file.txt >sed_file_new.txt\n",
        "mv sed_file_new.txt sed_file.txt\n",
        "cat sed_file.txt"
      ],
      "execution_count": 12,
      "outputs": [
        {
          "output_type": "stream",
          "text": [
            "Four score and nine years ago\n"
          ],
          "name": "stdout"
        }
      ]
    },
    {
      "cell_type": "code",
      "metadata": {
        "id": "Kl0yQI9Kmf5R",
        "colab_type": "code",
        "colab": {}
      },
      "source": [
        "%%bash\n",
        "sed 's/seven/nine/g' sed_file.txt | sed 's/nine/two/g' | sed 's/two/one/g' >sed_file_new2.txt"
      ],
      "execution_count": 0,
      "outputs": []
    },
    {
      "cell_type": "code",
      "metadata": {
        "id": "YoPOq7dBnoqz",
        "colab_type": "code",
        "colab": {
          "base_uri": "https://localhost:8080/",
          "height": 34
        },
        "outputId": "ef0941ee-3bd6-473b-b09f-841072c75bc1"
      },
      "source": [
        "%%bash\n",
        "sed 's/a/o/g' sed_file.txt\n",
        "sed 's/and/or/g' sed_file.txt\n",
        "sed 's/s..../xxxxx/g' sed_file.txt\n",
        "sed 's/ago$/!/g' sed_file.txt\n",
        "sed 's/seven/nine/g' sed_file.txt >sed_file.txt\n",
        "cat sed_file.txt\n",
        "wc -l sed_file.txt"
      ],
      "execution_count": 25,
      "outputs": [
        {
          "output_type": "stream",
          "text": [
            "0 sed_file.txt\n"
          ],
          "name": "stdout"
        }
      ]
    },
    {
      "cell_type": "code",
      "metadata": {
        "id": "9OBiSCeopOLg",
        "colab_type": "code",
        "colab": {
          "base_uri": "https://localhost:8080/",
          "height": 136
        },
        "outputId": "168d81ad-0c41-461c-b254-088032638f5b"
      },
      "source": [
        "%%bash\n",
        "sed '3d' regex2.txt >regex2_new.txt\n",
        "sed '/a/d' regex2.txt"
      ],
      "execution_count": 31,
      "outputs": [
        {
          "output_type": "stream",
          "text": [
            "A1 b2\n",
            "b3\n",
            "c4\n",
            "aaa\n",
            "abc\n",
            "Abcabc\n",
            "aabbcc\n"
          ],
          "name": "stdout"
        }
      ]
    },
    {
      "cell_type": "code",
      "metadata": {
        "id": "4Urnsbrzp4cb",
        "colab_type": "code",
        "colab": {
          "base_uri": "https://localhost:8080/",
          "height": 85
        },
        "outputId": "637087c7-ceea-4ede-c1f5-149218740355"
      },
      "source": [
        "%%bash\n",
        "sed '/[0-9]/d' regex2.txt"
      ],
      "execution_count": 33,
      "outputs": [
        {
          "output_type": "stream",
          "text": [
            "aaa\n",
            "abc\n",
            "Abcabc\n",
            "aabbcc\n"
          ],
          "name": "stdout"
        }
      ]
    },
    {
      "cell_type": "code",
      "metadata": {
        "id": "yVoJVA_7p87H",
        "colab_type": "code",
        "colab": {
          "base_uri": "https://localhost:8080/",
          "height": 306
        },
        "outputId": "286ba197-f285-4209-fafd-4cd7a931857b"
      },
      "source": [
        "%%bash\n",
        "sed '$d' regex2.txt\n",
        "wc -l regex2.txt\n",
        "sed '9d' regex2.txt"
      ],
      "execution_count": 38,
      "outputs": [
        {
          "output_type": "stream",
          "text": [
            "a1 b1\n",
            "A1 b2\n",
            "aaa\n",
            "abc\n",
            "Abcabc\n",
            "aabbcc\n",
            "b1a2 a3\n",
            "b3\n",
            "9 regex2.txt\n",
            "a1 b1\n",
            "A1 b2\n",
            "aaa\n",
            "abc\n",
            "Abcabc\n",
            "aabbcc\n",
            "b1a2 a3\n",
            "b3\n"
          ],
          "name": "stdout"
        }
      ]
    },
    {
      "cell_type": "code",
      "metadata": {
        "id": "F6gF1fCWsIjA",
        "colab_type": "code",
        "colab": {
          "base_uri": "https://localhost:8080/",
          "height": 717
        },
        "outputId": "146e5856-c174-41cb-b712-8450342d6ea8"
      },
      "source": [
        "%%bash\n",
        "\n",
        "awk '{print}' hg19.gtf | head\n",
        "awk '{print $1}' hg19.gtf | head\n",
        "awk '{print $1\"\\t\"$4}' hg19.gtf >hg19_col_1_4.gtf\n",
        "awk '{print $1\"\\t\"$5-$4}' hg19.gtf >hg19_chr2.gtf\n"
      ],
      "execution_count": 65,
      "outputs": [
        {
          "output_type": "stream",
          "text": [
            "chr2\thg18_knownGene_GnfAtlas2\texon\t31608\t31627\t0.000000\t-\t.\tgene_id \"DUMMYCLUSTER.1\"; transcript_id \"uc002qvt.1\";\n",
            "chr2\thg18_knownGene_GnfAtlas2\texon\t35440\t36385\t0.000000\t-\t.\tgene_id \"DUMMYCLUSTER.1\"; transcript_id \"uc002qvt.1\";\n",
            "chr2\thg18_knownGene_GnfAtlas2\texon\t229563\t232178\t0.000000\t-\t.\tgene_id \"DUMMYCLUSTER.1\"; transcript_id \"uc002qwb.2\";\n",
            "chr2\thg18_knownGene_GnfAtlas2\texon\t208155\t209001\t0.000000\t-\t.\tgene_id \"204019_s_at\"; transcript_id \"uc002qvu.1\";\n",
            "chr2\thg18_knownGene_GnfAtlas2\texon\t214864\t214920\t0.000000\t-\t.\tgene_id \"204019_s_at\"; transcript_id \"uc002qvu.1\";\n",
            "chr2\thg18_knownGene_GnfAtlas2\texon\t219966\t220044\t0.000000\t-\t.\tgene_id \"204019_s_at\"; transcript_id \"uc002qvu.1\";\n",
            "chr2\thg18_knownGene_GnfAtlas2\texon\t221023\t221191\t0.000000\t-\t.\tgene_id \"204019_s_at\"; transcript_id \"uc002qvu.1\";\n",
            "chr2\thg18_knownGene_GnfAtlas2\texon\t223101\t223229\t0.000000\t-\t.\tgene_id \"204019_s_at\"; transcript_id \"uc002qvu.1\";\n",
            "chr2\thg18_knownGene_GnfAtlas2\texon\t224160\t224272\t0.000000\t-\t.\tgene_id \"204019_s_at\"; transcript_id \"uc002qvu.1\";\n",
            "chr2\thg18_knownGene_GnfAtlas2\texon\t237538\t237602\t0.000000\t-\t.\tgene_id \"204019_s_at\"; transcript_id \"uc002qvu.1\";\n",
            "chr2\n",
            "chr2\n",
            "chr2\n",
            "chr2\n",
            "chr2\n",
            "chr2\n",
            "chr2\n",
            "chr2\n",
            "chr2\n",
            "chr2\n",
            "chr2\t19\n",
            "chr2\t945\n",
            "chr2\t2615\n",
            "chr2\t846\n",
            "chr2\t56\n",
            "chr2\t78\n",
            "chr2\t168\n",
            "chr2\t128\n",
            "chr2\t112\n",
            "chr2\t64\n",
            "chr3\t77\n",
            "chr3\t476\n",
            "chr3\t130\n",
            "chr3\t69\n",
            "chr3\t115\n",
            "chr3\t110\n",
            "chr3\t123\n",
            "chr3\t2267\n",
            "chr3\t1648\n",
            "chr3\t121\n"
          ],
          "name": "stdout"
        }
      ]
    },
    {
      "cell_type": "code",
      "metadata": {
        "id": "sa8Qc24vtta7",
        "colab_type": "code",
        "colab": {
          "base_uri": "https://localhost:8080/",
          "height": 187
        },
        "outputId": "18fa674a-bc00-4a2b-a290-b2e807cc6f64"
      },
      "source": [
        "%%bash\n",
        "awk '{print $1\"\\t\"$5-$4}' hg19.gtf | head"
      ],
      "execution_count": 48,
      "outputs": [
        {
          "output_type": "stream",
          "text": [
            "chr2\t19\n",
            "chr2\t945\n",
            "chr2\t2615\n",
            "chr2\t846\n",
            "chr2\t56\n",
            "chr2\t78\n",
            "chr2\t168\n",
            "chr2\t128\n",
            "chr2\t112\n",
            "chr2\t64\n"
          ],
          "name": "stdout"
        }
      ]
    },
    {
      "cell_type": "code",
      "metadata": {
        "id": "i74vM6xXvPAv",
        "colab_type": "code",
        "colab": {}
      },
      "source": [
        "%%bash\n",
        "\n",
        "awk '{if ($2==\"computers\") print}' sales.txt"
      ],
      "execution_count": 0,
      "outputs": []
    },
    {
      "cell_type": "code",
      "metadata": {
        "id": "VjDhUhCFvjmS",
        "colab_type": "code",
        "colab": {}
      },
      "source": [
        "%%bash\n",
        "awk '{if ($3>\"0\") print $1\"\\t\"$2*$3}' emp.txt >emp_new.txt"
      ],
      "execution_count": 0,
      "outputs": []
    },
    {
      "cell_type": "code",
      "metadata": {
        "id": "WrYlF5WYwy8s",
        "colab_type": "code",
        "colab": {
          "base_uri": "https://localhost:8080/",
          "height": 394
        },
        "outputId": "cd1f194e-58ac-4727-aec5-444e501933b2"
      },
      "source": [
        "%%bash\n",
        "awk '{if($4>500000) print}' hg19.gtf | wc -l\n",
        "awk '{if ($1==\"chr2\") print}' hg19.gtf | wc -l\n",
        "head hg19_chr2.gtf\n",
        "tail hg19_chr2.gtf"
      ],
      "execution_count": 66,
      "outputs": [
        {
          "output_type": "stream",
          "text": [
            "2785\n",
            "chr2\thg18_knownGene_GnfAtlas2\texon\t31608\t31627\t0.000000\t-\t.\tgene_id \"DUMMYCLUSTER.1\"; transcript_id \"uc002qvt.1\";\n",
            "chr2\thg18_knownGene_GnfAtlas2\texon\t35440\t36385\t0.000000\t-\t.\tgene_id \"DUMMYCLUSTER.1\"; transcript_id \"uc002qvt.1\";\n",
            "chr2\thg18_knownGene_GnfAtlas2\texon\t229563\t232178\t0.000000\t-\t.\tgene_id \"DUMMYCLUSTER.1\"; transcript_id \"uc002qwb.2\";\n",
            "chr2\thg18_knownGene_GnfAtlas2\texon\t208155\t209001\t0.000000\t-\t.\tgene_id \"204019_s_at\"; transcript_id \"uc002qvu.1\";\n",
            "chr2\thg18_knownGene_GnfAtlas2\texon\t214864\t214920\t0.000000\t-\t.\tgene_id \"204019_s_at\"; transcript_id \"uc002qvu.1\";\n",
            "chr2\thg18_knownGene_GnfAtlas2\texon\t219966\t220044\t0.000000\t-\t.\tgene_id \"204019_s_at\"; transcript_id \"uc002qvu.1\";\n",
            "chr2\thg18_knownGene_GnfAtlas2\texon\t221023\t221191\t0.000000\t-\t.\tgene_id \"204019_s_at\"; transcript_id \"uc002qvu.1\";\n",
            "chr2\thg18_knownGene_GnfAtlas2\texon\t223101\t223229\t0.000000\t-\t.\tgene_id \"204019_s_at\"; transcript_id \"uc002qvu.1\";\n",
            "chr2\thg18_knownGene_GnfAtlas2\texon\t224160\t224272\t0.000000\t-\t.\tgene_id \"204019_s_at\"; transcript_id \"uc002qvu.1\";\n",
            "chr2\thg18_knownGene_GnfAtlas2\texon\t237538\t237602\t0.000000\t-\t.\tgene_id \"204019_s_at\"; transcript_id \"uc002qvu.1\";\n",
            "chr2\thg18_knownGene_GnfAtlas2\texon\t9575683\t9575827\t0.000000\t-\t.\tgene_id \"205745_x_at\"; transcript_id \"uc002qzu.1\";\n",
            "chr2\thg18_knownGene_GnfAtlas2\texon\t9578783\t9578896\t0.000000\t-\t.\tgene_id \"205745_x_at\"; transcript_id \"uc002qzu.1\";\n",
            "chr2\thg18_knownGene_GnfAtlas2\texon\t9580829\t9580918\t0.000000\t-\t.\tgene_id \"205745_x_at\"; transcript_id \"uc002qzu.1\";\n",
            "chr2\thg18_knownGene_GnfAtlas2\texon\t9583691\t9583824\t0.000000\t-\t.\tgene_id \"205745_x_at\"; transcript_id \"uc002qzu.1\";\n",
            "chr2\thg18_knownGene_GnfAtlas2\texon\t9585366\t9585534\t0.000000\t-\t.\tgene_id \"205745_x_at\"; transcript_id \"uc002qzu.1\";\n",
            "chr2\thg18_knownGene_GnfAtlas2\texon\t9593414\t9593502\t0.000000\t-\t.\tgene_id \"205745_x_at\"; transcript_id \"uc002qzu.1\";\n",
            "chr2\thg18_knownGene_GnfAtlas2\texon\t9594278\t9594408\t0.000000\t-\t.\tgene_id \"205745_x_at\"; transcript_id \"uc002qzu.1\";\n",
            "chr2\thg18_knownGene_GnfAtlas2\texon\t9600733\t9600865\t0.000000\t-\t.\tgene_id \"205745_x_at\"; transcript_id \"uc002qzu.1\";\n",
            "chr2\thg18_knownGene_GnfAtlas2\texon\t9613089\t9613368\t0.000000\t-\t.\tgene_id \"205745_x_at\"; transcript_id \"uc002qzu.1\";\n",
            "chr2\thg18_knownGene_GnfAtlas2\texon\t9546862\t9548098\t0.000000\t-\t.\tgene_id \"205745_x_at\"; transcript_id \"uc010ewy.1\";\n"
          ],
          "name": "stdout"
        }
      ]
    },
    {
      "cell_type": "code",
      "metadata": {
        "id": "u33G4Q9UyU6K",
        "colab_type": "code",
        "colab": {
          "base_uri": "https://localhost:8080/",
          "height": 119
        },
        "outputId": "6dccc3a1-6531-458c-ade5-f4a19654e805"
      },
      "source": [
        "%%bash\n",
        "\n",
        "awk '{sum+=$4} END {print sum}' hg19.gtf\n",
        "wc -l hg19.gtf\n",
        "awk '{sum+=$4} END {print sum/3000}' hg19.gtf\n",
        "awk '{if ($1==\"chr2\") sum+=$4} END {print sum}' hg19.gtf\n",
        "awk '{if ($1==\"chr2\") print}' hg19.gtf | wc -l\n",
        "awk '{if ($1==\"chr2\") sum+=$4} END {print sum/1000}' hg19.gtf\n"
      ],
      "execution_count": 72,
      "outputs": [
        {
          "output_type": "stream",
          "text": [
            "2.99428e+10\n",
            "3000 hg19.gtf\n",
            "9.98093e+06\n",
            "4.52502e+09\n",
            "1000\n",
            "4.52502e+06\n"
          ],
          "name": "stdout"
        }
      ]
    },
    {
      "cell_type": "code",
      "metadata": {
        "id": "5P523to60jIu",
        "colab_type": "code",
        "colab": {}
      },
      "source": [
        "%%bash\n",
        "\n",
        "\n",
        "\n",
        "sort -n numbers.txt >numbers_sort.txt\n",
        "uniq numbers_sort.txt\n",
        "uniq -d numbers_sort.txt\n",
        "uniq -c numbers_sort.txt"
      ],
      "execution_count": 0,
      "outputs": []
    }
  ]
}